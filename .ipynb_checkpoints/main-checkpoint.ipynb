{
 "cells": [
  {
   "cell_type": "code",
   "execution_count": 1,
   "id": "7790b585-c3f4-4910-aeee-ca702af916f5",
   "metadata": {},
   "outputs": [],
   "source": [
    "# -*- coding: UTF-8 -*-\n",
    "import pandas as pd\n",
    "from sklearn.metrics import accuracy_score\n",
    "import glob\n",
    "import pandas as pd\n",
    "from lightgbm import LGBMClassifier\n",
    "import numpy as np\n",
    "from cls import randomforest, bayes, logisticregression, decisiontree, adaboost, knn\n",
    "from cls import lightgbm\n",
    "from cls import svmOpt\n",
    "from imblearn.under_sampling import RandomUnderSampler\n",
    "from sklearn.metrics import roc_auc_score\n",
    "import matplotlib.pyplot as plt\n",
    "from sklearn.manifold import TSNE  \n",
    "from sklearn.svm import SVC\n",
    "from sklearn.model_selection import KFold\n",
    "from minepy import MINE"
   ]
  },
  {
   "cell_type": "code",
   "execution_count": 2,
   "id": "349f669c-a49b-4f0a-a212-57cdbfbed329",
   "metadata": {},
   "outputs": [],
   "source": [
    "def dataprocessing(filepath):\n",
    "    #print (\"Loading feature files\")\n",
    "    dataset1 = pd.read_csv(filepath[0], header=None, low_memory=False)\n",
    "    dataset2 = pd.read_csv(filepath[1], header=None, low_memory=False)\n",
    "    dataset3 = pd.read_csv(filepath[2], header=None, low_memory=False)\n",
    "    dataset4 = pd.read_csv(filepath[3], header=None, low_memory=False)\n",
    "\n",
    "    dataset1 = dataset1.apply(pd.to_numeric, errors=\"ignore\")\n",
    "    dataset2 = dataset2.apply(pd.to_numeric, errors=\"ignore\")\n",
    "    dataset3 = dataset3.apply(pd.to_numeric, errors=\"ignore\")\n",
    "    dataset4 = dataset4.apply(pd.to_numeric, errors=\"ignore\")\n",
    "    dataset1.dropna(inplace=True)\n",
    "    dataset2.dropna(inplace=True)\n",
    "    dataset3.dropna(inplace=True)\n",
    "    dataset4.dropna(inplace=True)\n",
    "\n",
    "    traindata = pd.concat([dataset2, dataset4], axis=0).values\n",
    "    testdata = pd.concat([dataset1, dataset3]).values\n",
    "    \n",
    "    smo = RandomUnderSampler(random_state=42)\n",
    "    \n",
    "    negtraintags = [0] * dataset2.shape[0]\n",
    "    postraintags = [1] * dataset4.shape[0]\n",
    "    traintags = negtraintags + postraintags\n",
    "    # testdata = pd.concat([dataset1, dataset3])\n",
    "    traindata, traintags = smo.fit_resample(traindata, traintags)\n",
    "    negtesttags = [0] * dataset1.shape[0]\n",
    "    postesttags = [1] * dataset3.shape[0]\n",
    "    testtags = negtesttags + postesttags\n",
    "\n",
    "    traintags = np.array(traintags)\n",
    "    data = [traindata, traintags, testdata, testtags]\n",
    "    return data"
   ]
  },
  {
   "cell_type": "code",
   "execution_count": 3,
   "id": "6fee9627-b0ad-4699-b5a6-08def2bc547d",
   "metadata": {},
   "outputs": [],
   "source": [
    "def datadic(filegroup):\n",
    "\n",
    "    method = [\"-DT.csv\", \"-PDT-Profile.csv\", \"-Top-n-gram.csv\",  \"-PSSM-DT.csv\", \"-CC-PSSM.csv\",\n",
    "              \"-AC-PSSM.csv\", \"ACC-PSSM.csv\", \"kmer\", \"feature-AC.csv\", \"ACC.csv\", \"feature-CC.csv\", \"DP.csv\", \"DR.csv\",\n",
    "               \"PC-PseAAC.csv\", \"PC-PseAAC-General.csv\", \"PDT.csv\", \"SC-PseAAC.csv\", \"SC-PseAAC-General.csv\",\n",
    "             'backward_3_Acthely_factors.csv',\n",
    " 'backward_3_AESNN3.csv',\n",
    " 'backward_3_ANN4D.csv',\n",
    " 'backward_3_Binary_5_bit.csv',\n",
    " 'backward_3_BLOSUM62.csv',\n",
    " 'backward_3_Hydrophobicity_matrix.csv',\n",
    " 'backward_3_Meiler_parameters.csv',\n",
    " 'backward_3_Micheletti_potentials.csv',\n",
    " 'backward_3_Miyazawa_energies.csv',\n",
    " 'backward_3_One_hot.csv',\n",
    " 'backward_3_One_hot_6_bit.csv',\n",
    " 'backward_3_PAM250.csv',\n",
    " 'backward_5_Acthely_factors.csv',\n",
    " 'backward_5_AESNN3.csv',\n",
    " 'backward_5_ANN4D.csv',\n",
    " 'backward_5_Binary_5_bit.csv',\n",
    " 'backward_5_BLOSUM62.csv',\n",
    " 'backward_5_Hydrophobicity_matrix.csv',\n",
    " 'backward_5_Meiler_parameters.csv',\n",
    " 'backward_5_Micheletti_potentials.csv',\n",
    " 'backward_5_Miyazawa_energies.csv',\n",
    " 'backward_5_One_hot.csv',\n",
    " 'backward_5_One_hot_6_bit.csv',\n",
    " 'backward_5_PAM250.csv',\n",
    " 'forward_3_Acthely_factors.csv',\n",
    " 'forward_3_AESNN3.csv',\n",
    " 'forward_3_ANN4D.csv',\n",
    " 'forward_3_Binary_5_bit.csv',\n",
    " 'forward_3_BLOSUM62.csv',\n",
    " 'forward_3_Hydrophobicity_matrix.csv',\n",
    " 'forward_3_Meiler_parameters.csv',\n",
    " 'forward_3_Micheletti_potentials.csv',\n",
    " 'forward_3_Miyazawa_energies.csv',\n",
    " 'forward_3_One_hot.csv',\n",
    " 'forward_3_One_hot_6_bit.csv',\n",
    " 'forward_3_PAM250.csv',\n",
    " 'forward_5_Acthely_factors.csv',\n",
    " 'forward_5_AESNN3.csv',\n",
    " 'forward_5_ANN4D.csv',\n",
    " 'forward_5_Binary_5_bit.csv',\n",
    " 'forward_5_BLOSUM62.csv',\n",
    " 'forward_5_Hydrophobicity_matrix.csv',\n",
    " 'forward_5_Meiler_parameters.csv',\n",
    " 'forward_5_Micheletti_potentials.csv',\n",
    " 'forward_5_Miyazawa_energies.csv',\n",
    " 'forward_5_One_hot.csv',\n",
    " 'forward_5_One_hot_6_bit.csv',\n",
    " 'forward_5_PAM250.csv']\n",
    "    postrain = filegroup[\"postrain\"]\n",
    "    negtrain = filegroup[\"negtrain\"]\n",
    "    postest = filegroup[\"postest\"]\n",
    "    negtest = filegroup[\"negtest\"]\n",
    "    file_method = {}\n",
    "    filepath = []\n",
    "    for methodname in method:\n",
    "        for i in postrain:\n",
    "            if methodname in i:\n",
    "                postrain_method = i\n",
    "                break\n",
    "  \n",
    "        for j in negtrain:\n",
    "            if methodname in j:\n",
    "                negtrain_method = j\n",
    "                break\n",
    "  \n",
    "        for k in postest:\n",
    "            if methodname in k:\n",
    "                postest_method = k\n",
    "                break\n",
    "\n",
    "        for l in negtest:\n",
    "            if methodname in l:\n",
    "                negtest_method = l\n",
    "                break\n",
    "        filepath = [negtest_method, negtrain_method, postest_method, postrain_method]\n",
    "        file_method[methodname] = dataprocessing(filepath)\n",
    "    return file_method\n"
   ]
  },
  {
   "cell_type": "code",
   "execution_count": 4,
   "id": "283eb035-79db-41fd-b5c0-2d007ffa1639",
   "metadata": {},
   "outputs": [],
   "source": [
    "def trainmodel_mutipleModel_SVM(datadic):\n",
    "    train_feature = {}\n",
    "    test_feature = {}\n",
    "    metrics = {}\n",
    "    index = []\n",
    "    for i in datadic:\n",
    "        data = datadic[i]\n",
    "        print(i)\n",
    "        (y_pred_train, y_pred_test) = trainmodel_multipleTags_SVM(data[0], data[1], data[2], data[3])\n",
    "        # y_pred_train_和y_pred_test 是多个预测结果的列表\n",
    "        feature_svm_01 = i + \"_01_\" + \"SVM\"\n",
    "        feature_svm_rate = i + \"_rate_\" + \"SVM\"\n",
    "                \n",
    "        train_feature[feature_svm_01] = y_pred_train[0]\n",
    "        train_feature[feature_svm_rate] = y_pred_train[1]     \n",
    "\n",
    "        \n",
    "        test_feature[feature_svm_01] = y_pred_test[0]\n",
    "        test_feature[feature_svm_rate] = y_pred_test[1]\n",
    "\n",
    "    \n",
    "    train_feature_vector = pd.DataFrame(train_feature)\n",
    "    test_feature_vector = pd.DataFrame(test_feature)\n",
    "    data[0] = train_feature_vector.values\n",
    "    data[2] = test_feature_vector.values\n",
    "    print ('ok')\n",
    "    \n",
    "    return data"
   ]
  },
  {
   "cell_type": "code",
   "execution_count": 5,
   "id": "7c767c19-e4d4-4f15-a8b5-81f3ff0ab7aa",
   "metadata": {},
   "outputs": [],
   "source": [
    "def  trainmodel_multipleTags_SVM(traindata,traintags,testdata,testtags):   \n",
    "    data = [traindata,traintags,testdata,testtags]\n",
    "    c,g = SVMpara(data)\n",
    "    model_SVC = SVC(probability=True,C=c,gamma=g)\n",
    "    # model_SVC = SVC(probability=True)\n",
    "    model_SVC.fit(data[0], data[1])\n",
    "    \n",
    "    traindata_pred_rate = model_SVC.predict_proba(traindata)[:,1]\n",
    "    traindata_pred_01 = model_SVC.predict(traindata)\n",
    "    testdata_pred_rate = model_SVC.predict_proba(testdata)[:,1]\n",
    "    testdata_pred_01 = model_SVC.predict(testdata)\n",
    "    \n",
    "    print(accuracy_score(testtags, testdata_pred_01))\n",
    "    \n",
    "    trainLableList = [traindata_pred_01,  traindata_pred_rate]\n",
    "    y_predList = [testdata_pred_01, testdata_pred_rate]\n",
    "    return trainLableList, y_predList  # 返回各个分类器 预测出来的结果"
   ]
  },
  {
   "cell_type": "code",
   "execution_count": 6,
   "id": "9c9f8e96-91f6-4570-a265-2f2960480b10",
   "metadata": {},
   "outputs": [],
   "source": [
    "def trainmodel_mutipleModel_LGBM(datadic):\n",
    "    train_feature = {}\n",
    "    test_feature = {}\n",
    "    metrics = {}\n",
    "    index = []\n",
    "    for i in datadic:\n",
    "        data = datadic[i]\n",
    "        print(i)\n",
    "        (y_pred_train, y_pred_test) = trainmodel_multipleTags_LGBM(data[0], data[1], data[2], data[3])\n",
    "        # y_pred_train_和y_pred_test 是多个预测结果的列表\n",
    "        feature_Lgbm_01 = i + \"_01_\" + \"Lgbm\"\n",
    "        feature_Lgbm_rate = i + \"_rate_\" + \"Lgbm\"\n",
    "                \n",
    "        train_feature[feature_Lgbm_01] = y_pred_train[0]\n",
    "        train_feature[feature_Lgbm_rate] = y_pred_train[1]     \n",
    "\n",
    "        \n",
    "        test_feature[feature_Lgbm_01] = y_pred_test[0]\n",
    "        test_feature[feature_Lgbm_rate] = y_pred_test[1]\n",
    "\n",
    "    \n",
    "    train_feature_vector = pd.DataFrame(train_feature)\n",
    "    test_feature_vector = pd.DataFrame(test_feature)\n",
    "    data[0] = train_feature_vector.values\n",
    "    data[2] = test_feature_vector.values\n",
    "    print ('ok')\n",
    "    \n",
    "    return data"
   ]
  },
  {
   "cell_type": "code",
   "execution_count": 7,
   "id": "a031e072-85a0-4594-873f-61bef0019a95",
   "metadata": {},
   "outputs": [],
   "source": [
    "def  trainmodel_multipleTags_LGBM(traindata,traintags,testdata,testtags):    \n",
    "    train_data = lgb.Dataset(traindata, label=traintags, silent=True)\n",
    "    # validation_data=lgb.Dataset(testdata,label=testtags)\n",
    "    params = LGBMClassifier().get_params()\n",
    "    clf = lgb.train(params, train_data)\n",
    "    train_lable_Lgbm_rate = clf.predict(traindata, num_iteration=clf.best_iteration)\n",
    "    train_lable_Lgbm_01 = train_lable_Lgbm_rate.copy()\n",
    "    y_pred_Lgbm_rate = clf.predict(testdata, num_iteration=clf.best_iteration)\n",
    "    y_pred_Lgbm_01 = y_pred_Lgbm_rate.copy()\n",
    "    # y_raw = clf.predict(testdata, raw_score=True, num_iteration=clf.best_iteration)\n",
    "    for i in range(len(train_lable_Lgbm_01)):\n",
    "        if train_lable_Lgbm_01[i] > 0.5:\n",
    "            train_lable_Lgbm_01[i] = 1\n",
    "        else:\n",
    "            train_lable_Lgbm_01[i] = 0\n",
    "    for i in range(len(y_pred_Lgbm_01)):\n",
    "        if y_pred_Lgbm_01[i] > 0.5:\n",
    "            y_pred_Lgbm_01[i] = 1\n",
    "        else:\n",
    "            y_pred_Lgbm_01[i] = 0\n",
    "\n",
    "    trainLableList = [train_lable_Lgbm_01, train_lable_Lgbm_rate]\n",
    "    y_predList = [y_pred_Lgbm_01, y_pred_Lgbm_rate]\n",
    "    return trainLableList, y_predList  "
   ]
  },
  {
   "cell_type": "code",
   "execution_count": 8,
   "id": "80d71cd7-2ba4-43a7-b6f1-6e6a442fa537",
   "metadata": {},
   "outputs": [],
   "source": [
    "def find_best_SVM(c,gamma,traindata,trainlabel,testdata,testlabel):\n",
    "    model = SVC(C=c, gamma=gamma, probability=True)\n",
    "    model.fit(traindata,trainlabel)\n",
    "    prediction=model.predict(testdata)\n",
    "    acc=accuracy_score(testlabel, prediction)\n",
    "    return acc"
   ]
  },
  {
   "cell_type": "code",
   "execution_count": 9,
   "id": "3f19eadb-24d1-4bc5-8c84-611c6a998398",
   "metadata": {},
   "outputs": [],
   "source": [
    "def SVMpara(data):\n",
    "    best_par_acc=0\n",
    "    c = [ 1e-5, 1e-4, 1e-3, 1e-2, 1e-1, 1, 10, 100, 1000 ]\n",
    "    gamma = [ 1e-5, 1e-4, 1e-3, 1e-2, 1e-1, 1, 10, 100, 1000]\n",
    "\n",
    "    for C in c:\n",
    "      for Gamma in gamma:\n",
    "        accuracy=find_best_SVM(C,Gamma,data[0],data[1], data[2], data[3])\n",
    "        # print(C,\" \",Gamma,\" \",accuracy)\n",
    "        if(accuracy>best_par_acc):\n",
    "           best_par_acc=accuracy\n",
    "           best_C=C\n",
    "           best_gamma=Gamma\n",
    "    print(\"the highest acc is \",best_par_acc)\n",
    "    print(\"the best C is \",best_C)\n",
    "    print(\"the best gamma is \",best_gamma)\n",
    "    return best_C,best_gamma"
   ]
  },
  {
   "cell_type": "code",
   "execution_count": 10,
   "id": "943b5ca7-0051-4ae0-be62-dd8846c571b6",
   "metadata": {},
   "outputs": [],
   "source": [
    "tmpdir = \"APP_feature\" "
   ]
  },
  {
   "cell_type": "code",
   "execution_count": 11,
   "id": "900afdac-dd7e-4d55-ad15-00353f20c980",
   "metadata": {},
   "outputs": [],
   "source": [
    "postrain = glob.glob(tmpdir + '/Training-P.fastafeature*')\n",
    "negtrain = glob.glob(tmpdir + '/Training-N.fastafeature*')\n",
    "postest = glob.glob(tmpdir + '/Test-P.fastafeature*')\n",
    "negtest = glob.glob(tmpdir + '/Test-N.fastafeature*')"
   ]
  },
  {
   "cell_type": "code",
   "execution_count": 12,
   "id": "80109722-f236-4067-b09f-34690bf7e8d0",
   "metadata": {},
   "outputs": [],
   "source": [
    "tmpdir2 = \"cAPP\" "
   ]
  },
  {
   "cell_type": "code",
   "execution_count": 13,
   "id": "affc9aa6-7bd2-4008-8626-7514d58f45f7",
   "metadata": {},
   "outputs": [],
   "source": [
    "postrain2 = glob.glob(tmpdir2 + '/Training-P.txt*')\n",
    "negtrain2 = glob.glob(tmpdir2 + '/Training-N.txt*')\n",
    "postest2 = glob.glob(tmpdir2 + '/Test-P.txt*')\n",
    "negtest2 = glob.glob(tmpdir2 + '/Test-N.txt*')"
   ]
  },
  {
   "cell_type": "code",
   "execution_count": 14,
   "id": "13820c62-2234-449f-a91e-6e793f6378c7",
   "metadata": {},
   "outputs": [],
   "source": [
    "postrain.extend(postrain2)\n",
    "negtrain.extend(negtrain2)\n",
    "postest.extend(postest2)\n",
    "negtest.extend(negtest2)"
   ]
  },
  {
   "cell_type": "code",
   "execution_count": 15,
   "id": "ca53c71b-43b4-42cf-a6ea-2ff4f4b095df",
   "metadata": {},
   "outputs": [],
   "source": [
    "filegroup = {}   #字典\n",
    "filegroup['postrain'] = postrain\n",
    "filegroup['negtrain'] = negtrain\n",
    "filegroup['postest'] = postest\n",
    "filegroup['negtest'] = negtest\n",
    "\n",
    "# datadics = datadic(filegroup)\n",
    "# np.save('APP.npy',datadics)\n",
    "datadics = np.load('APP.npy', allow_pickle=True).item()"
   ]
  },
  {
   "cell_type": "markdown",
   "id": "3c42e32b-b81e-40ea-a5ba-204092dd2e00",
   "metadata": {},
   "source": [
    "# ten-fold"
   ]
  },
  {
   "cell_type": "code",
   "execution_count": 16,
   "id": "da6eb71a-b814-4f0c-bdc8-73905f995d1b",
   "metadata": {},
   "outputs": [],
   "source": [
    "# kf = KFold(n_splits=10,shuffle=True)\n",
    "# train_all = datadics['-AC-PSSM.csv'][0]\n",
    "# label_all = datadics['-AC-PSSM.csv'][1]\n",
    "# data_new={}\n",
    "# for train_index, test_index in kf.split(train_all):\n",
    "#     filepath = './ten-cross/index'\n",
    "#     filename = filepath+str(i)+'train_index'\n",
    "#     filename2 = filepath+str(i)+'test_index'\n",
    "#     np.save(filename+'.npy',train_index)\n",
    "#     np.save(filename2+'.npy',test_index)\n",
    "#     i=i+1\n",
    "# for ss in range(1,11): \n",
    "#     filepath = './ten-cross/index/index'\n",
    "#     filename = filepath+str(ss)+'train_index'\n",
    "#     filename2 = filepath+str(ss)+'test_index'\n",
    "#     train_index = np.load(filename+'.npy', allow_pickle=True)\n",
    "#     test_index = np.load(filename2+'.npy', allow_pickle=True)\n",
    "#     for i in datadics:\n",
    "#         data_t = datadics[i]\n",
    "#         # print datadics[i][0].shape \n",
    "#         X_train, X_test = data_t[0][train_index],data_t[0][test_index]\n",
    "#         y_train, y_test = data_t[1][train_index],data_t[1][test_index]\n",
    "#         a=[X_train,y_train, X_test, y_test]\n",
    "#         data_new[i]=a\n",
    "#     # data1 = trainmodel_mutipleModel_LGBM(data_new)\n",
    "#     data2 = trainmodel_mutipleModel_SVM(data_new)\n",
    "#     # filepath = './ten-cross/lgbm/'\n",
    "#     # filename = filepath+str(ss)+'_lgbm.npy'\n",
    "#     filepath = './ten-cross/svm/'\n",
    "#     filename = filepath+str(ss)+'_svm.npy'\n",
    "#     np.save(filename,data2)"
   ]
  },
  {
   "cell_type": "code",
   "execution_count": 17,
   "id": "d5322143-356e-4815-95f4-e86819ba09e5",
   "metadata": {},
   "outputs": [],
   "source": [
    "# for ss in range(1,11):\n",
    "#     filepath = './ten-cross/lgbm/'\n",
    "#     filename = filepath+str(ss)+'_lgbm.npy'\n",
    "#     filepath2 = './ten-cross/svm/'\n",
    "#     filename2 = filepath2+str(ss)+'_svm.npy'\n",
    "    \n",
    "#     data1 = np.load(filename,allow_pickle=True)\n",
    "#     data2 = np.load(filename2,allow_pickle=True)\n",
    "#     data3 = np.load(filename,allow_pickle=True)\n",
    "#     data3[0] = np.concatenate((data1[0],data2[0]),axis=1)\n",
    "#     data3[2] = np.concatenate((data1[2],data2[2]),axis=1)\n",
    "#     a, b = data3[0].shape\n",
    "#     list = []\n",
    "#     mine = MINE(alpha=0.6, c=15)\n",
    "#     for i in range(b):\n",
    "#         mine.compute_score(data3[0][:,i],data3[1])\n",
    "#         list.append(mine.mic())\n",
    "#     filepath = './ten-cross/mic/'\n",
    "#     filename = filepath+str(ss)+'_mic.npy'\n",
    "#     np.save(filename,list)  "
   ]
  },
  {
   "cell_type": "code",
   "execution_count": null,
   "id": "96544fd7-b4a5-4b84-ac7f-ea4a48e175f4",
   "metadata": {},
   "outputs": [],
   "source": [
    "for ss in range(1,11):\n",
    "    filepath = './ten-cross/lgbm/'\n",
    "    filename = filepath+str(ss)+'_lgbm.npy'\n",
    "    filepath2 = './ten-cross/svm/'\n",
    "    filename2 = filepath2+str(ss)+'_svm.npy'\n",
    "    filepath3 = './ten-cross/mic/'\n",
    "    filename3 = filepath3+str(ss)+'_mic.npy'\n",
    "    data1 = np.load(filename,allow_pickle=True)\n",
    "    data2 = np.load(filename2,allow_pickle=True)\n",
    "    data3 = np.load(filename,allow_pickle=True)\n",
    "    data3[0] = np.concatenate((data1[0],data2[0]),axis=1)\n",
    "    data3[2] = np.concatenate((data1[2],data2[2]),axis=1)\n",
    "    mic = np.load(filename3,allow_pickle=True)\n",
    "    list = []\n",
    "    for i in range(len(mic)):\n",
    "        if mic[i]>=0.4:\n",
    "            list.append(i)\n",
    "    data = [data3[0][:,list],data3[1],data3[2][:,list],data3[3]]\n",
    "    c,g = SVMpara(data)\n",
    "    model_SVC = SVC(probability=True,C=c,gamma=g)\n",
    "    model_SVC.fit(data[0], data[1])\n",
    "    indemetric = svmOpt(data[2], data[3], model_SVC)\n",
    "    random_inde = randomforest(data[0], data[1], data[2], data[3])\n",
    "    bayes_inde = bayes(data[0], data[1], data[2], data[3])\n",
    "    logisticregression_inde = logisticregression(data[0], data[1], data[2], data[3])\n",
    "    adaboost_inde = adaboost(data[0], data[1], data[2], data[3])\n",
    "    knn_inde = knn(data[0], data[1], data[2], data[3])\n",
    "    lightgbm_inde = lightgbm(data[0], data[1], data[2], data[3])\n",
    "    decisiontree_inde = decisiontree(data[0], data[1], data[2], data[3])\n",
    "    metric = pd.DataFrame(indemetric)\n",
    "    random_inde = pd.DataFrame(random_inde)\n",
    "    bayes_inde = pd.DataFrame(bayes_inde)\n",
    "    logisticregression_inde = pd.DataFrame(logisticregression_inde)\n",
    "    adaboost_inde = pd.DataFrame(adaboost_inde)\n",
    "    knn_inde = pd.DataFrame(knn_inde)\n",
    "    decisiontree_inde = pd.DataFrame(decisiontree_inde)\n",
    "    lightgbm_inde = pd.DataFrame(lightgbm_inde,index=[0]) \n",
    "    col = ['acc', 'auc', 'sen', 'spec', 'mcc', 'f1_score']\n",
    "    piece = metric.loc[0, col]  \n",
    "    random_inde_piece = random_inde.loc[0, col]\n",
    "    bayes_inde_piece = bayes_inde.loc[0, col]\n",
    "    logisticregression_inde_piece = logisticregression_inde.loc[0, col]\n",
    "    adaboost_inde_piece = adaboost_inde.loc[0, col]\n",
    "    knn_inde_piece = knn_inde.loc[0, col]\n",
    "    decisiontree_inde_piece = decisiontree_inde.loc[0, col]\n",
    "    lightgbm_inde_piece = lightgbm_inde.loc[0, col]\n",
    "    piece.name = 'Svm'\n",
    "    random_inde_piece.name = 'Randomforest'\n",
    "    bayes_inde_piece.name = 'Bayes'\n",
    "    logisticregression_inde_piece.name = 'logisticregression'\n",
    "    adaboost_inde_piece.name = 'Adaboost'\n",
    "    knn_inde_piece.name = 'Knn'\n",
    "    decisiontree_inde_piece.name = 'Decision_tree'\n",
    "    lightgbm_inde_piece.name = \"lightgbm\"\n",
    "    outCome = pd.concat(\n",
    "    [piece, random_inde_piece, bayes_inde_piece, logisticregression_inde_piece, adaboost_inde_piece,\n",
    "     knn_inde_piece, decisiontree_inde_piece, lightgbm_inde_piece], axis=1)\n",
    "    filepath = './ten-cross/result/'\n",
    "    filename = filepath+str(ss)+'_cross.csv'\n",
    "    # outCome.to_csv(filename)\n",
    "    print (outCome)"
   ]
  },
  {
   "cell_type": "markdown",
   "id": "5158486c-9215-4b04-98c1-4e3cced3a647",
   "metadata": {},
   "source": [
    "# Independent"
   ]
  },
  {
   "cell_type": "code",
   "execution_count": 18,
   "id": "f69b51eb-8393-42de-8341-f5064436b399",
   "metadata": {},
   "outputs": [],
   "source": [
    "# data1 = trainmodel_mutipleModel_LGBM(datadics)\n",
    "# data1 = trainmodel_mutipleModel_SVM(datadics)\n",
    "# np.save('2-lgbm-APP.npy',data1)\n",
    "# np.save('2-TOPsvm-APP.npy',data1)"
   ]
  },
  {
   "cell_type": "code",
   "execution_count": 19,
   "id": "3c74a6d2-1b60-468c-9a29-549d0c9065c9",
   "metadata": {},
   "outputs": [],
   "source": [
    "data1 = np.load('2-lgbm-APP.npy',allow_pickle=True)\n",
    "data2 = np.load('2-TOPsvm-APP.npy',allow_pickle=True)"
   ]
  },
  {
   "cell_type": "code",
   "execution_count": 20,
   "id": "ea50f09b-dae6-46f2-b0a3-c87d1fe7ff11",
   "metadata": {},
   "outputs": [],
   "source": [
    "data3 = np.load('2-lgbm-APP.npy',allow_pickle=True)"
   ]
  },
  {
   "cell_type": "code",
   "execution_count": 21,
   "id": "45500310-02bd-49d3-bcb2-1da2c16263da",
   "metadata": {},
   "outputs": [],
   "source": [
    "data3[0] = np.concatenate((data1[0],data2[0]),axis=1)\n",
    "data3[2] = np.concatenate((data1[2],data2[2]),axis=1)"
   ]
  },
  {
   "cell_type": "code",
   "execution_count": 22,
   "id": "9f7c1fbd-8c6b-4a41-a106-fabde9fcad57",
   "metadata": {},
   "outputs": [],
   "source": [
    "# a, b = data1[0].shape\n",
    "# list = []\n",
    "# mine = MINE(alpha=0.6, c=15)\n",
    "# for i in range(b):\n",
    "#     mine.compute_score(data1[0][:,i],data1[1])\n",
    "#     list.append(mine.mic())\n",
    "# matrix1 = np.array(list)"
   ]
  },
  {
   "cell_type": "code",
   "execution_count": 23,
   "id": "91f52d65-97a4-4cf3-99af-7f6cd4b05209",
   "metadata": {},
   "outputs": [],
   "source": [
    "mic = np.load('MICindex_LGBM_SVM.npy')"
   ]
  },
  {
   "cell_type": "code",
   "execution_count": 24,
   "id": "c621a9eb-a400-41c1-a8d5-b0f435eeecf1",
   "metadata": {},
   "outputs": [],
   "source": [
    "list = []\n",
    "for i in range(len(mic)):\n",
    "    if mic[i]>=0.4:\n",
    "        list.append(i)"
   ]
  },
  {
   "cell_type": "code",
   "execution_count": 25,
   "id": "055237ec-7a73-42ad-8233-275c1c6a49ec",
   "metadata": {},
   "outputs": [],
   "source": [
    "data = data3\n",
    "s2 = data3[0][:,list]\n",
    "s4 = data3[2][:,list]\n",
    "data = [s2,data1[1],s4,data1[3]]"
   ]
  },
  {
   "cell_type": "code",
   "execution_count": 26,
   "id": "94b0f242-55fc-48f1-963c-28a3f22882fc",
   "metadata": {},
   "outputs": [
    {
     "name": "stdout",
     "output_type": "stream",
     "text": [
      "the highest acc is  0.9130434782608695\n",
      "the best C is  1000\n",
      "the best gamma is  0.0001\n"
     ]
    }
   ],
   "source": [
    "c,g = SVMpara(data)"
   ]
  },
  {
   "cell_type": "code",
   "execution_count": 25,
   "id": "b2863f70-19d7-4e54-b9d6-4eb7de4a128d",
   "metadata": {},
   "outputs": [
    {
     "name": "stdout",
     "output_type": "stream",
     "text": [
      "SvmOpt Classifier\n",
      "RandomForestClassifier\n",
      "Training\n",
      "GaussianNB\n",
      "Training\n",
      "logisticregression\n",
      "AdaBoostClassifier\n",
      "Training\n",
      "[LightGBM] [Warning] Unknown parameter: importance_type\n",
      "[LightGBM] [Warning] Unknown parameter: silent\n",
      "decisiontree\n",
      "print Training \n",
      "               Svm Randomforest     Bayes logisticregression  Adaboost  \\\n",
      "acc       0.913043     0.880435  0.858696           0.902174  0.836957   \n",
      "auc       0.934783     0.930766  0.868147           0.926749  0.836957   \n",
      "sen       0.978261     0.934783  0.847826           0.978261  0.869565   \n",
      "spec      0.847826     0.826087  0.869565           0.826087  0.804348   \n",
      "mcc       0.833205     0.765405  0.717561           0.813826  0.675351   \n",
      "f1_score  0.918367     0.886598  0.857143           0.909091  0.842105   \n",
      "\n",
      "               Knn Decision_tree  lightgbm  \n",
      "acc       0.891304      0.826087  0.554348  \n",
      "auc       0.910444      0.826087  0.554348  \n",
      "sen       0.978261      0.804348  0.130435  \n",
      "spec      0.804348      0.847826  0.978261  \n",
      "mcc       0.794719      0.652791  0.204980  \n",
      "f1_score       0.9      0.822222  0.226415  \n"
     ]
    }
   ],
   "source": [
    "model_SVC = SVC(probability=True,C=c,gamma=g)\n",
    "model_SVC.fit(data[0], data[1])\n",
    "indemetric = svmOpt(data[2], data[3], model_SVC)\n",
    "random_inde = randomforest(data[0], data[1], data[2], data[3])\n",
    "bayes_inde = bayes(data[0], data[1], data[2], data[3])\n",
    "logisticregression_inde = logisticregression(data[0], data[1], data[2], data[3])\n",
    "adaboost_inde = adaboost(data[0], data[1], data[2], data[3])\n",
    "knn_inde = knn(data[0], data[1], data[2], data[3])\n",
    "lightgbm_inde = lightgbm(data[0], data[1], data[2], data[3])\n",
    "decisiontree_inde = decisiontree(data[0], data[1], data[2], data[3])\n",
    "metric = pd.DataFrame(indemetric)\n",
    "random_inde = pd.DataFrame(random_inde)\n",
    "bayes_inde = pd.DataFrame(bayes_inde)\n",
    "logisticregression_inde = pd.DataFrame(logisticregression_inde)\n",
    "adaboost_inde = pd.DataFrame(adaboost_inde)\n",
    "knn_inde = pd.DataFrame(knn_inde)\n",
    "decisiontree_inde = pd.DataFrame(decisiontree_inde)\n",
    "lightgbm_inde = pd.DataFrame(lightgbm_inde,index=[0]) \n",
    "col = ['acc', 'auc', 'sen', 'spec', 'mcc', 'f1_score']\n",
    "piece = metric.loc[0, col]  \n",
    "random_inde_piece = random_inde.loc[0, col]\n",
    "bayes_inde_piece = bayes_inde.loc[0, col]\n",
    "logisticregression_inde_piece = logisticregression_inde.loc[0, col]\n",
    "adaboost_inde_piece = adaboost_inde.loc[0, col]\n",
    "knn_inde_piece = knn_inde.loc[0, col]\n",
    "decisiontree_inde_piece = decisiontree_inde.loc[0, col]\n",
    "lightgbm_inde_piece = lightgbm_inde.loc[0, col]\n",
    "piece.name = 'Svm'\n",
    "random_inde_piece.name = 'Randomforest'\n",
    "bayes_inde_piece.name = 'Bayes'\n",
    "logisticregression_inde_piece.name = 'logisticregression'\n",
    "adaboost_inde_piece.name = 'Adaboost'\n",
    "knn_inde_piece.name = 'Knn'\n",
    "decisiontree_inde_piece.name = 'Decision_tree'\n",
    "lightgbm_inde_piece.name = \"lightgbm\"\n",
    "outCome = pd.concat(\n",
    "[piece, random_inde_piece, bayes_inde_piece, logisticregression_inde_piece, adaboost_inde_piece,\n",
    " knn_inde_piece, decisiontree_inde_piece, lightgbm_inde_piece], axis=1)\n",
    "# filename = \"IndependentTest\" + '.csv'  \n",
    "# outCome.to_csv(filepath)\n",
    "print (outCome)"
   ]
  },
  {
   "cell_type": "markdown",
   "id": "36e3834e-841d-4440-b82c-50423f405633",
   "metadata": {},
   "source": [
    "# TSNE"
   ]
  },
  {
   "cell_type": "code",
   "execution_count": 26,
   "id": "addec35c-95d0-42d6-b217-b0ba3de81df5",
   "metadata": {},
   "outputs": [
    {
     "data": {
      "image/png": "[encoded data removed]",
      "text/plain": [
       "<Figure size 576x432 with 1 Axes>"
      ]
     },
     "metadata": {
      "needs_background": "light"
     },
     "output_type": "display_data"
    }
   ],
   "source": [
    "a = np.array(data[3]) \n",
    "tsne = TSNE(n_components=2, random_state=0)\n",
    "X_2d = tsne.fit_transform(data[2])\n",
    "    \n",
    "fig, ax=plt.subplots(figsize=(8, 6))   \n",
    "plt.scatter(X_2d[a == 0, 0], X_2d[a == 0, 1], s=60,c='cornflowerblue', label='non-APPs',edgecolor = 'white')\n",
    "plt.scatter(X_2d[a == 1, 0], X_2d[a == 1, 1], s=60,c='orange', label='APPs',edgecolor = 'white')\n",
    "plt.title('t-SNE',fontsize=20,fontweight=550)\n",
    "plt.legend(loc=\"lower right\")\n",
    "plt.show()"
   ]
  },
  {
   "cell_type": "markdown",
   "id": "399b1ff9-6079-4596-bf85-f1beb1d5026d",
   "metadata": {},
   "source": [
    "# ROC"
   ]
  },
  {
   "cell_type": "code",
   "execution_count": 27,
   "id": "349068db-8000-4ac3-a1f4-1a4c4f83b371",
   "metadata": {},
   "outputs": [
    {
     "data": {
      "image/png": "[encoded data removed]",
      "text/plain": [
       "<Figure size 576x432 with 1 Axes>"
      ]
     },
     "metadata": {
      "needs_background": "light"
     },
     "output_type": "display_data"
    }
   ],
   "source": [
    "fig, ax=plt.subplots(figsize=(8, 6))\n",
    "ROC_random= random_inde['rocs']\n",
    "ROC_indemetric =indemetric['rocs']\n",
    "ROC_bayes= bayes_inde['rocs']\n",
    "ROC_logisticregression = logisticregression_inde['rocs']\n",
    "ROC_adaboost= adaboost_inde['rocs']\n",
    "ROC_knn = knn_inde['rocs']\n",
    "ROC_decisiontree = decisiontree_inde['rocs']\n",
    "plt.xlabel('False Positive Rate',fontsize=15,fontweight=500)\n",
    "plt.ylabel('Ture Positive Rate',fontsize=15,fontweight=500)\n",
    "plt.title('ROC curves',fontsize=20,fontweight=550)\n",
    "# plt.plot(ROC_random[0], ROC_random[1], color='red', label = 'random', linewidth=1.0)\n",
    "plt.plot(ROC_indemetric[0], ROC_indemetric[1],color='b',label = 'SVM (AUC=0.935)', linewidth=3)\n",
    "plt.plot(ROC_knn[0], ROC_knn[1],color='magenta', label = 'Knn (AUC=0.910)', linewidth=3)\n",
    "plt.plot(ROC_bayes[0], ROC_bayes[1],color='orange',  label = 'Bayes (AUC=0.868)',linewidth=3)\n",
    "plt.plot(ROC_decisiontree[0], ROC_decisiontree[1],color='black', label = 'DT (AUC=0.826)',linewidth=3)\n",
    "plt.plot([0, 1], [0, 1], 'r--')\n",
    "plt.legend(loc=\"lower right\")\n",
    "ax.spines['top'].set_visible(False)\n",
    "ax.spines['right'].set_visible(False)\n",
    "plt.show()"
   ]
  },
  {
   "cell_type": "markdown",
   "id": "f9ddeebf-bf5e-4554-91c0-1453a4eb2e78",
   "metadata": {},
   "source": [
    " # PR曲线"
   ]
  },
  {
   "cell_type": "code",
   "execution_count": 28,
   "id": "014aad00-7622-4a20-8621-55703f57b28c",
   "metadata": {},
   "outputs": [
    {
     "data": {
      "image/png": "[encoded data removed]",
      "text/plain": [
       "<Figure size 576x432 with 1 Axes>"
      ]
     },
     "metadata": {
      "needs_background": "light"
     },
     "output_type": "display_data"
    }
   ],
   "source": [
    "fig, ax=plt.subplots(figsize=(8, 6))\n",
    "ROC_random= random_inde['prc']\n",
    "ROC_indemetric =indemetric['prc']\n",
    "ROC_bayes= bayes_inde['prc']\n",
    "ROC_logisticregression = logisticregression_inde['prc']\n",
    "ROC_adaboost= adaboost_inde['prc']\n",
    "ROC_knn = knn_inde['prc']\n",
    "ROC_decisiontree = decisiontree_inde['prc']\n",
    "plt.xlabel('Recall Rate',fontsize=15,fontweight=500)\n",
    "plt.ylabel('Precision Rate',fontsize=15,fontweight=500)\n",
    "plt.title('PR curves',fontsize=20,fontweight=550)\n",
    "# plt.plot(ROC_random[0], ROC_random[1], color='red', label = 'random', linewidth=1.0)\n",
    "plt.plot(ROC_indemetric[0], ROC_indemetric[1],color='b',label = 'SVM (AUPR=0.908)', linewidth=3)\n",
    "plt.plot(ROC_knn[0], ROC_knn[1],color='magenta', label = 'Knn (AUPR=0.924)', linewidth=3)\n",
    "plt.plot(ROC_bayes[0], ROC_bayes[1],color='orange',  label = 'Bayes (AUPR=0.899)',linewidth=3)\n",
    "plt.plot(ROC_decisiontree[0], ROC_decisiontree[1],color='black', label = 'DT (AUPR=0.872)',linewidth=3)\n",
    "plt.legend(loc=\"lower left\")\n",
    "ax.spines['top'].set_visible(False)\n",
    "ax.spines['right'].set_visible(False)\n",
    "plt.ylim(0.475,1)\n",
    "plt.show()"
   ]
  },
  {
   "cell_type": "code",
   "execution_count": null,
   "id": "d257af5f-5ac0-427d-80c4-049fac2d7844",
   "metadata": {},
   "outputs": [],
   "source": []
  }
 ],
 "metadata": {
  "kernelspec": {
   "display_name": "Python 3 (ipykernel)",
   "language": "python",
   "name": "python3"
  },
  "language_info": {
   "codemirror_mode": {
    "name": "ipython",
    "version": 3
   },
   "file_extension": ".py",
   "mimetype": "text/x-python",
   "name": "python",
   "nbconvert_exporter": "python",
   "pygments_lexer": "ipython3",
   "version": "3.7.11"
  }
 },
 "nbformat": 4,
 "nbformat_minor": 5
}
